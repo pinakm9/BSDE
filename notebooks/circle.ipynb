{
 "cells": [
  {
   "cell_type": "code",
   "execution_count": 1,
   "id": "969550dd",
   "metadata": {},
   "outputs": [
    {
     "name": "stdout",
     "output_type": "stream",
     "text": [
      "C:\\Users\\pinak\\Documents\\GitHub\\BSDE\\notebooks\n",
      "C:\\Users\\pinak\\Documents\\GitHub\\BSDE\n"
     ]
    }
   ],
   "source": [
    "# add modules to Python's search path\n",
    "import os, sys\n",
    "from pathlib import Path\n",
    "script_dir = Path(os.path.abspath(''))\n",
    "module_dir = str(script_dir.parent)\n",
    "print(script_dir)\n",
    "print(module_dir)\n",
    "sys.path.insert(0, module_dir + '/modules')\n",
    "\n",
    "# import rest of the modules\n",
    "import numpy as np\n",
    "import tensorflow as tf\n",
    "import solver as sol\n",
    "import time"
   ]
  },
  {
   "cell_type": "code",
   "execution_count": null,
   "id": "0ff932a4",
   "metadata": {},
   "outputs": [
    {
     "name": "stdout",
     "output_type": "stream",
     "text": [
      "  Iter        Loss|   Time\n",
      "    0       0.0083   |   12.5\n",
      "   10       0.0126   |   13.5\n"
     ]
    }
   ],
   "source": [
    "sigma = np.sqrt(2.)\n",
    "two_pi = 2.0 * np.pi\n",
    "\n",
    "def mu(x):\n",
    "    a = - x * (4.0 * (tf.reduce_sum(tf.square(x), axis=1, keepdims=True) - 1.0))\n",
    "    b = tf.concat([tf.expand_dims(x[:, 1], axis=1), -tf.expand_dims(x[:, 0], axis=1)], axis=1)\n",
    "    return a + b\n",
    "\n",
    "\n",
    "def f(t, x, y, z): \n",
    "    z_ = 4.0 * (tf.reduce_sum(tf.square(x), axis=1, keepdims=True) - 1.0)\n",
    "    return 4. * (z_+2.) * y\n",
    "\n",
    "def g(x):\n",
    "    return tf.math.exp( -tf.reduce_sum(tf.square(x), axis=1, keepdims=True)) / two_pi\n",
    "\n",
    "solver = sol.DeepBSDEPt(dim=2, mu=mu, fun_f=f, fun_g=g, num_neurons=200, t1=0.3, time_steps=30, dir='../data', name='circle_solver')\n",
    "\n",
    "epochs = 4000\n",
    "x = np.array([1., 0.])\n",
    "solver.train(x, epochs, learning_rate=1e-4);"
   ]
  },
  {
   "cell_type": "code",
   "execution_count": 47,
   "id": "7fad7a84",
   "metadata": {},
   "outputs": [
    {
     "data": {
      "text/plain": [
       "<tf.Variable 'Variable:0' shape=(1,) dtype=float32, numpy=array([0.21472836], dtype=float32)>"
      ]
     },
     "execution_count": 47,
     "metadata": {},
     "output_type": "execute_result"
    }
   ],
   "source": [
    "solver.u0"
   ]
  },
  {
   "cell_type": "code",
   "execution_count": 40,
   "id": "7a528c03",
   "metadata": {},
   "outputs": [
    {
     "name": "stdout",
     "output_type": "stream",
     "text": [
      "  Iter        Loss|   Time\n",
      "    0       0.0131   |    7.5\n",
      "   10       0.0388   |    8.1\n",
      "   20       0.0226   |    8.7\n",
      "   30       0.0237   |    9.2\n",
      "   40       0.2329   |    9.7\n",
      "   50       0.0694   |   10.2\n",
      "   60       0.0089   |   10.8\n",
      "   70       0.0171   |   11.3\n",
      "   80       0.1090   |   11.8\n",
      "   90       0.3666   |   12.3\n",
      "  100       0.0361   |   12.9\n",
      "  110       0.0438   |   13.4\n",
      "  120       0.0332   |   13.9\n",
      "  130       0.0298   |   14.5\n",
      "  140       0.0196   |   15.0\n",
      "  150       0.0325   |   15.5\n",
      "  160       0.0487   |   16.0\n",
      "  170       0.0326   |   16.6\n",
      "  180       0.0404   |   17.1\n",
      "  190       0.0587   |   17.6\n",
      "  200       0.0120   |   18.1\n",
      "  210       0.0377   |   18.7\n",
      "  220       0.0272   |   19.2\n",
      "  230       0.0299   |   19.7\n",
      "  240       0.0117   |   20.3\n",
      "  250       0.0255   |   20.8\n",
      "  260       0.0241   |   21.3\n",
      "  270       0.0947   |   21.8\n",
      "  280       0.0311   |   22.4\n",
      "  290       0.0080   |   22.9\n",
      "  300       0.0282   |   23.4\n",
      "  310       0.0209   |   24.0\n",
      "  320       0.0044   |   24.5\n",
      "  330       0.0108   |   25.0\n",
      "  340       0.0264   |   25.6\n",
      "  350       0.0096   |   26.1\n",
      "  360       0.3642   |   26.6\n",
      "  370       0.0841   |   27.2\n",
      "  380       0.0117   |   27.7\n",
      "  390       0.0085   |   28.2\n",
      "  400       0.0373   |   28.7\n",
      "  410       0.0243   |   29.3\n",
      "  420       0.0153   |   29.8\n",
      "  430       0.0232   |   30.3\n",
      "  440       0.0365   |   30.8\n",
      "  450       0.0593   |   31.4\n",
      "  460       0.0176   |   31.9\n",
      "  470       0.0301   |   32.4\n",
      "  480       0.1886   |   33.0\n",
      "  490       0.0340   |   33.5\n",
      "  500       0.0205   |   34.0\n",
      "  510       0.0586   |   34.5\n",
      "  520       0.0067   |   35.1\n",
      "  530       0.0632   |   35.6\n",
      "  540       0.0145   |   36.1\n",
      "  550       0.0203   |   36.7\n",
      "  560       0.0211   |   37.2\n",
      "  570       0.0133   |   37.7\n",
      "  580       0.0183   |   38.3\n",
      "  590       0.0422   |   38.8\n",
      "  600       0.0193   |   39.4\n",
      "  610       0.0095   |   39.9\n",
      "  620       0.0087   |   40.5\n",
      "  630       0.0372   |   41.0\n",
      "  640       0.0059   |   41.5\n",
      "  650       0.0125   |   42.1\n",
      "  660       0.0104   |   42.6\n",
      "  670       0.0056   |   43.1\n",
      "  680       0.0215   |   43.7\n",
      "  690       0.0395   |   44.2\n",
      "  700       0.0245   |   44.7\n",
      "  710       0.0198   |   45.3\n",
      "  720       0.0247   |   45.8\n",
      "  730       0.0455   |   46.3\n",
      "  740       0.2360   |   46.8\n",
      "  750       0.0127   |   47.4\n",
      "  760       0.0393   |   47.9\n",
      "  770       0.0112   |   48.5\n",
      "  780       0.0434   |   49.0\n",
      "  790       0.0355   |   49.6\n",
      "  800       0.0141   |   50.1\n",
      "  810       0.0092   |   50.6\n",
      "  820       0.0440   |   51.2\n",
      "  830       0.0244   |   51.7\n",
      "  840       0.0161   |   52.2\n",
      "  850       0.0314   |   52.7\n",
      "  860       0.0331   |   53.3\n",
      "  870       0.0109   |   53.8\n",
      "  880       0.0087   |   54.3\n",
      "  890       0.0131   |   54.8\n",
      "  900       0.0426   |   55.4\n",
      "  910       0.0124   |   55.9\n",
      "  920       0.0634   |   56.4\n",
      "  930       0.0271   |   57.0\n",
      "  940       0.0092   |   57.5\n",
      "  950       0.1062   |   58.0\n",
      "  960       0.0408   |   58.5\n",
      "  970       0.0416   |   59.1\n",
      "  980       0.0536   |   59.6\n",
      "  990       0.0073   |   60.2\n"
     ]
    }
   ],
   "source": [
    "solver2 = sol.DeepBSDEPt(dim=2, mu=mu, fun_f=f, fun_g=g, num_neurons=20, time_steps=20, dir='../data', name='circle_solver')\n",
    "epochs = 1000\n",
    "x = np.array([0., 1.])\n",
    "solver2.train(x, epochs, learning_rate=1e-4);"
   ]
  },
  {
   "cell_type": "code",
   "execution_count": 41,
   "id": "c6e2a31f",
   "metadata": {},
   "outputs": [
    {
     "data": {
      "text/plain": [
       "<tf.Variable 'Variable:0' shape=(1,) dtype=float32, numpy=array([0.15021396], dtype=float32)>"
      ]
     },
     "execution_count": 41,
     "metadata": {},
     "output_type": "execute_result"
    }
   ],
   "source": [
    "solver2.u0"
   ]
  },
  {
   "cell_type": "code",
   "execution_count": 36,
   "id": "47953471",
   "metadata": {},
   "outputs": [
    {
     "data": {
      "text/plain": [
       "<tf.Tensor: shape=(10, 2), dtype=float32, numpy=\n",
       "array([[0.77621734, 0.18717861],\n",
       "       [0.5349605 , 0.4701829 ],\n",
       "       [0.20297861, 0.8456378 ],\n",
       "       [0.18979084, 0.27094495],\n",
       "       [0.97630095, 0.5434922 ],\n",
       "       [0.85062623, 0.14603734],\n",
       "       [0.72374606, 0.69302917],\n",
       "       [0.47361147, 0.46439767],\n",
       "       [0.80637586, 0.7324481 ],\n",
       "       [0.527974  , 0.42981327]], dtype=float32)>"
      ]
     },
     "execution_count": 36,
     "metadata": {},
     "output_type": "execute_result"
    }
   ],
   "source": [
    "x = tf.random.uniform(shape=(10, 2))\n",
    "tf.concat([tf.expand_dims(x[:, 1], axis=1), tf.expand_dims(x[:, 0], axis=1)], axis=1)"
   ]
  },
  {
   "cell_type": "code",
   "execution_count": 37,
   "id": "eab19182",
   "metadata": {},
   "outputs": [
    {
     "data": {
      "text/plain": [
       "<tf.Tensor: shape=(10, 2), dtype=float32, numpy=\n",
       "array([[0.18717861, 0.77621734],\n",
       "       [0.4701829 , 0.5349605 ],\n",
       "       [0.8456378 , 0.20297861],\n",
       "       [0.27094495, 0.18979084],\n",
       "       [0.5434922 , 0.97630095],\n",
       "       [0.14603734, 0.85062623],\n",
       "       [0.69302917, 0.72374606],\n",
       "       [0.46439767, 0.47361147],\n",
       "       [0.7324481 , 0.80637586],\n",
       "       [0.42981327, 0.527974  ]], dtype=float32)>"
      ]
     },
     "execution_count": 37,
     "metadata": {},
     "output_type": "execute_result"
    }
   ],
   "source": [
    "x"
   ]
  },
  {
   "cell_type": "code",
   "execution_count": null,
   "id": "43595c7f",
   "metadata": {},
   "outputs": [],
   "source": [
    "solver.u0(u)"
   ]
  },
  {
   "cell_type": "code",
   "execution_count": null,
   "id": "30579aba",
   "metadata": {},
   "outputs": [],
   "source": [
    "p = tf.random.uniform((10, 2))\n",
    "with tf.GradientTape() as tape:\n",
    "  tape.watch(p)\n",
    "  u = g(p)\n",
    "du = tape.gradient(u, p)"
   ]
  },
  {
   "cell_type": "code",
   "execution_count": null,
   "id": "dac24d78",
   "metadata": {},
   "outputs": [],
   "source": [
    "du"
   ]
  },
  {
   "cell_type": "code",
   "execution_count": null,
   "id": "4ab13485",
   "metadata": {},
   "outputs": [],
   "source": [
    "p"
   ]
  },
  {
   "cell_type": "code",
   "execution_count": null,
   "id": "c1fa2523",
   "metadata": {},
   "outputs": [],
   "source": [
    "r = -2.*g(p)*tf.expand_dims(p[:, 0], axis=1)\n",
    "s = -2.*g(p)*tf.expand_dims(p[:, 1], axis=1)\n",
    "rs = tf.concat([r, s], axis=1)"
   ]
  },
  {
   "cell_type": "code",
   "execution_count": null,
   "id": "ededc674",
   "metadata": {},
   "outputs": [],
   "source": [
    "du - rs"
   ]
  },
  {
   "cell_type": "code",
   "execution_count": null,
   "id": "1d474ee7",
   "metadata": {},
   "outputs": [],
   "source": [
    "np.ones((100, 2))*np.array([[5., 7.]])"
   ]
  },
  {
   "cell_type": "code",
   "execution_count": null,
   "id": "66894fb2",
   "metadata": {},
   "outputs": [],
   "source": [
    "x = np.array([5., 7.])"
   ]
  },
  {
   "cell_type": "code",
   "execution_count": null,
   "id": "48fe8dfc",
   "metadata": {},
   "outputs": [],
   "source": [
    "x.reshape((1, 2))"
   ]
  },
  {
   "cell_type": "code",
   "execution_count": 26,
   "id": "00b18f3f",
   "metadata": {},
   "outputs": [
    {
     "ename": "NameError",
     "evalue": "name 'du' is not defined",
     "output_type": "error",
     "traceback": [
      "\u001b[1;31m---------------------------------------------------------------------------\u001b[0m",
      "\u001b[1;31mNameError\u001b[0m                                 Traceback (most recent call last)",
      "\u001b[1;32m~\\AppData\\Local\\Temp/ipykernel_3576/1345247430.py\u001b[0m in \u001b[0;36m<module>\u001b[1;34m\u001b[0m\n\u001b[1;32m----> 1\u001b[1;33m \u001b[0mdu\u001b[0m\u001b[1;33m[\u001b[0m\u001b[1;33m:\u001b[0m\u001b[1;33m,\u001b[0m \u001b[1;36m0\u001b[0m\u001b[1;33m]\u001b[0m\u001b[1;33m\u001b[0m\u001b[1;33m\u001b[0m\u001b[0m\n\u001b[0m",
      "\u001b[1;31mNameError\u001b[0m: name 'du' is not defined"
     ]
    }
   ],
   "source": [
    "du[:, 0]"
   ]
  },
  {
   "cell_type": "code",
   "execution_count": null,
   "id": "7cc4f0f0",
   "metadata": {},
   "outputs": [],
   "source": []
  }
 ],
 "metadata": {
  "kernelspec": {
   "display_name": "Python 3 (ipykernel)",
   "language": "python",
   "name": "python3"
  },
  "language_info": {
   "codemirror_mode": {
    "name": "ipython",
    "version": 3
   },
   "file_extension": ".py",
   "mimetype": "text/x-python",
   "name": "python",
   "nbconvert_exporter": "python",
   "pygments_lexer": "ipython3",
   "version": "3.9.9"
  }
 },
 "nbformat": 4,
 "nbformat_minor": 5
}
