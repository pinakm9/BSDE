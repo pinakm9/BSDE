{
 "cells": [
  {
   "cell_type": "code",
   "execution_count": 1,
   "id": "969550dd",
   "metadata": {},
   "outputs": [
    {
     "name": "stdout",
     "output_type": "stream",
     "text": [
      "C:\\Users\\pinak\\Documents\\GitHub\\BSDE\\notebooks\n",
      "C:\\Users\\pinak\\Documents\\GitHub\\BSDE\n"
     ]
    }
   ],
   "source": [
    "# add modules to Python's search path\n",
    "import os, sys\n",
    "from pathlib import Path\n",
    "script_dir = Path(os.path.abspath(''))\n",
    "module_dir = str(script_dir.parent)\n",
    "print(script_dir)\n",
    "print(module_dir)\n",
    "sys.path.insert(0, module_dir + '/modules')\n",
    "\n",
    "# import rest of the modules\n",
    "import numpy as np\n",
    "import tensorflow as tf\n",
    "import solver as sol\n",
    "import time"
   ]
  },
  {
   "cell_type": "code",
   "execution_count": 64,
   "id": "0ff932a4",
   "metadata": {},
   "outputs": [
    {
     "name": "stdout",
     "output_type": "stream",
     "text": [
      "  Iter        Loss|   Time\n",
      "    0       0.0026   |    8.2\n",
      "   10       0.0056   |    8.9\n",
      "   20       0.0058   |    9.4\n",
      "   30       0.0036   |   10.0\n",
      "   40       0.0027   |   10.5\n",
      "   50       0.0028   |   11.1\n",
      "   60       0.0028   |   11.6\n",
      "   70       0.0024   |   12.3\n",
      "   80       0.0032   |   12.9\n",
      "   90       0.0030   |   13.4\n",
      "  100       0.0023   |   14.0\n",
      "  110       0.0022   |   14.5\n",
      "  120       0.0019   |   15.0\n",
      "  130       0.0027   |   15.6\n",
      "  140       0.0025   |   16.1\n",
      "  150       0.0023   |   16.7\n",
      "  160       0.0027   |   17.2\n",
      "  170       0.0023   |   17.7\n",
      "  180       0.0031   |   18.3\n",
      "  190       0.0020   |   18.8\n",
      "  200       0.0018   |   19.3\n",
      "  210       0.0019   |   19.9\n",
      "  220       0.0021   |   20.4\n",
      "  230       0.0016   |   21.0\n",
      "  240       0.0015   |   21.5\n",
      "  250       0.0024   |   22.0\n",
      "  260       0.0016   |   22.6\n",
      "  270       0.0018   |   23.1\n",
      "  280       0.0022   |   23.7\n",
      "  290       0.0026   |   24.2\n",
      "  300       0.0023   |   24.7\n",
      "  310       0.0019   |   25.3\n",
      "  320       0.0022   |   25.8\n",
      "  330       0.0020   |   26.4\n",
      "  340       0.0026   |   26.9\n",
      "  350       0.0018   |   27.4\n",
      "  360       0.0010   |   28.0\n",
      "  370       0.0021   |   28.5\n",
      "  380       0.0020   |   29.1\n",
      "  390       0.0023   |   29.6\n",
      "  400       0.0014   |   30.1\n",
      "  410       0.0024   |   30.7\n",
      "  420       0.0015   |   31.2\n",
      "  430       0.0022   |   31.8\n",
      "  440       0.0011   |   32.3\n",
      "  450       0.0012   |   32.8\n",
      "  460       0.0018   |   33.4\n",
      "  470       0.0016   |   33.9\n",
      "  480       0.0019   |   34.5\n",
      "  490       0.0017   |   35.0\n",
      "  500       0.0018   |   35.5\n",
      "  510       0.0013   |   36.1\n",
      "  520       0.0013   |   36.6\n",
      "  530       0.0018   |   37.2\n",
      "  540       0.0011   |   37.7\n",
      "  550       0.0014   |   38.2\n",
      "  560       0.0023   |   38.8\n",
      "  570       0.0011   |   39.3\n",
      "  580       0.0011   |   39.9\n",
      "  590       0.0016   |   40.4\n",
      "  600       0.0018   |   40.9\n",
      "  610       0.0016   |   41.5\n",
      "  620       0.0016   |   42.0\n",
      "  630       0.0013   |   42.6\n",
      "  640       0.0014   |   43.1\n",
      "  650       0.0012   |   43.7\n",
      "  660       0.0017   |   44.2\n",
      "  670       0.0012   |   44.7\n",
      "  680       0.0012   |   45.3\n",
      "  690       0.0018   |   45.8\n",
      "  700       0.0015   |   46.4\n",
      "  710       0.0016   |   46.9\n",
      "  720       0.0011   |   47.4\n",
      "  730       0.0012   |   48.0\n",
      "  740       0.0011   |   48.5\n",
      "  750       0.0012   |   49.1\n",
      "  760       0.0013   |   49.6\n",
      "  770       0.0015   |   50.1\n",
      "  780       0.0016   |   50.7\n",
      "  790       0.0013   |   51.2\n",
      "  800       0.0020   |   51.8\n",
      "  810       0.0011   |   52.3\n",
      "  820       0.0011   |   52.8\n",
      "  830       0.0015   |   53.4\n",
      "  840       0.0012   |   53.9\n",
      "  850       0.0016   |   54.5\n",
      "  860       0.0020   |   55.0\n",
      "  870       0.0015   |   55.5\n",
      "  880       0.0025   |   56.1\n",
      "  890       0.0007   |   56.6\n",
      "  900       0.0014   |   57.2\n",
      "  910       0.0015   |   57.7\n",
      "  920       0.0013   |   58.2\n",
      "  930       0.0012   |   58.8\n",
      "  940       0.0013   |   59.3\n",
      "  950       0.0015   |   59.9\n",
      "  960       0.0013   |   60.4\n",
      "  970       0.0013   |   60.9\n",
      "  980       0.0012   |   61.5\n",
      "  990       0.0012   |   62.0\n"
     ]
    }
   ],
   "source": [
    "sigma = np.sqrt(2.)\n",
    "two_pi = 2.0 * np.pi\n",
    "\n",
    "def mu(x):\n",
    "    a = - x * (4.0 * (tf.reduce_sum(tf.square(x), axis=1, keepdims=True) - 1.0))\n",
    "    b = tf.concat([tf.expand_dims(x[:, 1], axis=1), -tf.expand_dims(x[:, 0], axis=1)], axis=1)\n",
    "    return a + b\n",
    "\n",
    "\n",
    "def f(t, x, y, z): \n",
    "    z_ = 4.0 * (tf.reduce_sum(tf.square(x), axis=1, keepdims=True) - 1.0)\n",
    "    return 4. * (z_+2.) * y\n",
    "\n",
    "def g(x):\n",
    "    return tf.math.exp( -0.5*tf.reduce_sum(tf.square(x), axis=1, keepdims=True)) / two_pi\n",
    "\n",
    "solver = sol.DeepBSDEPt(dim=2, mu=mu, fun_f=f, fun_g=g, num_neurons=200, t1=0.1, time_steps=20, dir='../data', name='circle_solver')\n",
    "\n",
    "\n",
    "epochs = 1000\n",
    "c = 1./np.sqrt(2.)\n",
    "x = np.array([-c, c])\n",
    "solver.train(x, epochs, learning_rate=1e-4);"
   ]
  },
  {
   "cell_type": "code",
   "execution_count": 69,
   "id": "7fad7a84",
   "metadata": {},
   "outputs": [
    {
     "data": {
      "text/plain": [
       "<tf.Variable 'Variable:0' shape=(1,) dtype=float32, numpy=array([0.19772398], dtype=float32)>"
      ]
     },
     "execution_count": 69,
     "metadata": {},
     "output_type": "execute_result"
    }
   ],
   "source": [
    "solver.u0"
   ]
  },
  {
   "cell_type": "code",
   "execution_count": 66,
   "id": "22dc87b6",
   "metadata": {},
   "outputs": [
    {
     "name": "stdout",
     "output_type": "stream",
     "text": [
      "  Iter        Loss|   Time\n",
      "    0       0.0072   |    8.1\n",
      "   10       0.0040   |    8.7\n",
      "   20       0.0044   |    9.3\n",
      "   30       0.0048   |    9.8\n",
      "   40       0.0037   |   10.3\n",
      "   50       0.0027   |   10.9\n",
      "   60       0.0049   |   11.4\n",
      "   70       0.0044   |   11.9\n",
      "   80       0.0033   |   12.5\n",
      "   90       0.0038   |   13.0\n",
      "  100       0.0028   |   13.6\n",
      "  110       0.0032   |   14.1\n",
      "  120       0.0035   |   14.6\n",
      "  130       0.0022   |   15.2\n",
      "  140       0.0037   |   15.7\n",
      "  150       0.0027   |   16.3\n",
      "  160       0.0020   |   16.8\n",
      "  170       0.0024   |   17.3\n",
      "  180       0.0037   |   17.9\n",
      "  190       0.0019   |   18.4\n",
      "  200       0.0026   |   19.0\n",
      "  210       0.0025   |   19.5\n",
      "  220       0.0026   |   20.1\n",
      "  230       0.0026   |   20.6\n",
      "  240       0.0022   |   21.1\n",
      "  250       0.0019   |   21.7\n",
      "  260       0.0027   |   22.2\n",
      "  270       0.0032   |   22.8\n",
      "  280       0.0018   |   23.3\n",
      "  290       0.0021   |   23.9\n",
      "  300       0.0028   |   24.4\n",
      "  310       0.0017   |   25.0\n",
      "  320       0.0018   |   25.5\n",
      "  330       0.0019   |   26.2\n",
      "  340       0.0016   |   26.7\n",
      "  350       0.0015   |   27.3\n",
      "  360       0.0024   |   27.8\n",
      "  370       0.0021   |   28.4\n",
      "  380       0.0018   |   29.0\n",
      "  390       0.0021   |   29.5\n",
      "  400       0.0020   |   30.1\n",
      "  410       0.0016   |   30.6\n",
      "  420       0.0022   |   31.2\n",
      "  430       0.0025   |   31.7\n",
      "  440       0.0017   |   32.3\n",
      "  450       0.0019   |   32.8\n",
      "  460       0.0022   |   33.4\n",
      "  470       0.0020   |   33.9\n",
      "  480       0.0016   |   34.5\n",
      "  490       0.0022   |   35.1\n",
      "  500       0.0018   |   35.7\n",
      "  510       0.0019   |   36.2\n",
      "  520       0.0018   |   36.8\n",
      "  530       0.0016   |   37.3\n",
      "  540       0.0020   |   37.9\n",
      "  550       0.0013   |   38.4\n",
      "  560       0.0021   |   39.0\n",
      "  570       0.0010   |   39.5\n",
      "  580       0.0018   |   40.1\n",
      "  590       0.0017   |   40.6\n",
      "  600       0.0016   |   41.2\n",
      "  610       0.0015   |   41.7\n",
      "  620       0.0017   |   42.2\n",
      "  630       0.0021   |   42.8\n",
      "  640       0.0022   |   43.3\n",
      "  650       0.0018   |   43.9\n",
      "  660       0.0020   |   44.4\n",
      "  670       0.0016   |   44.9\n",
      "  680       0.0014   |   45.5\n",
      "  690       0.0013   |   46.0\n",
      "  700       0.0011   |   46.6\n",
      "  710       0.0015   |   47.1\n",
      "  720       0.0009   |   47.6\n",
      "  730       0.0013   |   48.2\n",
      "  740       0.0015   |   48.7\n",
      "  750       0.0013   |   49.3\n",
      "  760       0.0010   |   49.8\n",
      "  770       0.0018   |   50.3\n",
      "  780       0.0015   |   50.9\n",
      "  790       0.0012   |   51.4\n",
      "  800       0.0012   |   52.0\n",
      "  810       0.0014   |   52.5\n",
      "  820       0.0011   |   53.1\n",
      "  830       0.0012   |   53.6\n",
      "  840       0.0013   |   54.2\n",
      "  850       0.0015   |   54.7\n",
      "  860       0.0015   |   55.3\n",
      "  870       0.0010   |   55.8\n",
      "  880       0.0011   |   56.4\n",
      "  890       0.0012   |   56.9\n",
      "  900       0.0017   |   57.5\n",
      "  910       0.0008   |   58.0\n",
      "  920       0.0009   |   58.6\n",
      "  930       0.0014   |   59.1\n",
      "  940       0.0008   |   59.6\n",
      "  950       0.0009   |   60.2\n",
      "  960       0.0014   |   60.7\n",
      "  970       0.0013   |   61.3\n",
      "  980       0.0010   |   61.8\n",
      "  990       0.0016   |   62.4\n"
     ]
    }
   ],
   "source": [
    "solver2 = sol.DeepBSDEPt(dim=2, mu=mu, fun_f=f, fun_g=g, num_neurons=200, t1=0.1, time_steps=20, dir='../data', name='circle_solver')\n",
    "epochs = 1000\n",
    "c = 1./np.sqrt(2.)\n",
    "x = np.array([c, c])\n",
    "solver2.train(x, epochs, learning_rate=1e-4);"
   ]
  },
  {
   "cell_type": "code",
   "execution_count": 68,
   "id": "3148eb0a",
   "metadata": {},
   "outputs": [
    {
     "data": {
      "text/plain": [
       "<tf.Variable 'Variable:0' shape=(1,) dtype=float32, numpy=array([0.21370466], dtype=float32)>"
      ]
     },
     "execution_count": 68,
     "metadata": {},
     "output_type": "execute_result"
    }
   ],
   "source": [
    "solver2.u0"
   ]
  },
  {
   "cell_type": "code",
   "execution_count": 36,
   "id": "47953471",
   "metadata": {},
   "outputs": [
    {
     "data": {
      "text/plain": [
       "<tf.Tensor: shape=(10, 2), dtype=float32, numpy=\n",
       "array([[0.77621734, 0.18717861],\n",
       "       [0.5349605 , 0.4701829 ],\n",
       "       [0.20297861, 0.8456378 ],\n",
       "       [0.18979084, 0.27094495],\n",
       "       [0.97630095, 0.5434922 ],\n",
       "       [0.85062623, 0.14603734],\n",
       "       [0.72374606, 0.69302917],\n",
       "       [0.47361147, 0.46439767],\n",
       "       [0.80637586, 0.7324481 ],\n",
       "       [0.527974  , 0.42981327]], dtype=float32)>"
      ]
     },
     "execution_count": 36,
     "metadata": {},
     "output_type": "execute_result"
    }
   ],
   "source": [
    "x = tf.random.uniform(shape=(10, 2))\n",
    "tf.concat([tf.expand_dims(x[:, 1], axis=1), tf.expand_dims(x[:, 0], axis=1)], axis=1)"
   ]
  },
  {
   "cell_type": "code",
   "execution_count": 37,
   "id": "5b98fc0d",
   "metadata": {},
   "outputs": [
    {
     "data": {
      "text/plain": [
       "<tf.Tensor: shape=(10, 2), dtype=float32, numpy=\n",
       "array([[0.18717861, 0.77621734],\n",
       "       [0.4701829 , 0.5349605 ],\n",
       "       [0.8456378 , 0.20297861],\n",
       "       [0.27094495, 0.18979084],\n",
       "       [0.5434922 , 0.97630095],\n",
       "       [0.14603734, 0.85062623],\n",
       "       [0.69302917, 0.72374606],\n",
       "       [0.46439767, 0.47361147],\n",
       "       [0.7324481 , 0.80637586],\n",
       "       [0.42981327, 0.527974  ]], dtype=float32)>"
      ]
     },
     "execution_count": 37,
     "metadata": {},
     "output_type": "execute_result"
    }
   ],
   "source": [
    "x"
   ]
  },
  {
   "cell_type": "code",
   "execution_count": null,
   "id": "056482d6",
   "metadata": {},
   "outputs": [],
   "source": [
    "solver.u0(u)"
   ]
  },
  {
   "cell_type": "code",
   "execution_count": null,
   "id": "6a8a6467",
   "metadata": {},
   "outputs": [],
   "source": [
    "p = tf.random.uniform((10, 2))\n",
    "with tf.GradientTape() as tape:\n",
    "  tape.watch(p)\n",
    "  u = g(p)\n",
    "du = tape.gradient(u, p)"
   ]
  },
  {
   "cell_type": "code",
   "execution_count": null,
   "id": "86e2c391",
   "metadata": {},
   "outputs": [],
   "source": [
    "du"
   ]
  },
  {
   "cell_type": "code",
   "execution_count": null,
   "id": "ea10e4a6",
   "metadata": {},
   "outputs": [],
   "source": [
    "p"
   ]
  },
  {
   "cell_type": "code",
   "execution_count": null,
   "id": "2bcc2b23",
   "metadata": {},
   "outputs": [],
   "source": [
    "r = -2.*g(p)*tf.expand_dims(p[:, 0], axis=1)\n",
    "s = -2.*g(p)*tf.expand_dims(p[:, 1], axis=1)\n",
    "rs = tf.concat([r, s], axis=1)"
   ]
  },
  {
   "cell_type": "code",
   "execution_count": null,
   "id": "ce8e1250",
   "metadata": {},
   "outputs": [],
   "source": [
    "du - rs"
   ]
  },
  {
   "cell_type": "code",
   "execution_count": null,
   "id": "6c0fe252",
   "metadata": {},
   "outputs": [],
   "source": [
    "np.ones((100, 2))*np.array([[5., 7.]])"
   ]
  },
  {
   "cell_type": "code",
   "execution_count": null,
   "id": "b885f909",
   "metadata": {},
   "outputs": [],
   "source": [
    "x = np.array([5., 7.])"
   ]
  },
  {
   "cell_type": "code",
   "execution_count": null,
   "id": "a54349c8",
   "metadata": {},
   "outputs": [],
   "source": [
    "x.reshape((1, 2))"
   ]
  },
  {
   "cell_type": "code",
   "execution_count": 26,
   "id": "eb19cda3",
   "metadata": {},
   "outputs": [
    {
     "ename": "NameError",
     "evalue": "name 'du' is not defined",
     "output_type": "error",
     "traceback": [
      "\u001b[1;31m---------------------------------------------------------------------------\u001b[0m",
      "\u001b[1;31mNameError\u001b[0m                                 Traceback (most recent call last)",
      "\u001b[1;32m~\\AppData\\Local\\Temp/ipykernel_3576/1345247430.py\u001b[0m in \u001b[0;36m<module>\u001b[1;34m\u001b[0m\n\u001b[1;32m----> 1\u001b[1;33m \u001b[0mdu\u001b[0m\u001b[1;33m[\u001b[0m\u001b[1;33m:\u001b[0m\u001b[1;33m,\u001b[0m \u001b[1;36m0\u001b[0m\u001b[1;33m]\u001b[0m\u001b[1;33m\u001b[0m\u001b[1;33m\u001b[0m\u001b[0m\n\u001b[0m",
      "\u001b[1;31mNameError\u001b[0m: name 'du' is not defined"
     ]
    }
   ],
   "source": [
    "du[:, 0]"
   ]
  },
  {
   "cell_type": "code",
   "execution_count": null,
   "id": "a2686fd8",
   "metadata": {},
   "outputs": [],
   "source": []
  }
 ],
 "metadata": {
  "kernelspec": {
   "display_name": "Python 3 (ipykernel)",
   "language": "python",
   "name": "python3"
  },
  "language_info": {
   "codemirror_mode": {
    "name": "ipython",
    "version": 3
   },
   "file_extension": ".py",
   "mimetype": "text/x-python",
   "name": "python",
   "nbconvert_exporter": "python",
   "pygments_lexer": "ipython3",
   "version": "3.9.9"
  }
 },
 "nbformat": 4,
 "nbformat_minor": 5
}
